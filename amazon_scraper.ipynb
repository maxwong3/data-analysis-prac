{
 "cells": [
  {
   "cell_type": "code",
   "execution_count": 9,
   "id": "4f0d405d-6e5a-4e94-8bba-8ab10a4b2f00",
   "metadata": {},
   "outputs": [
    {
     "name": "stdout",
     "output_type": "stream",
     "text": [
      "None\n"
     ]
    }
   ],
   "source": [
    "from bs4 import BeautifulSoup\n",
    "import requests\n",
    "\n",
    "amazon_url = 'https://www.amazon.com/s?k=mens+shoes&crid=5HW4OMWZPZ7E&sprefix=mens+shoes%2Caps%2C112&ref=nb_sb_noss_1'\n",
    "\n",
    "response = requests.get(amazon_url)\n",
    "\n",
    "soup = BeautifulSoup(response.text, \"html.parser\")\n",
    "\n",
    "search_results = soup.find(\"span\", attrs={\"data-component-type\":\"s-search-results\"})\n",
    "spans = soup.find_all(\"span\", attrs={\"id\":\"a-price-whole\"})\n",
    "print(search_results)"
   ]
  },
  {
   "cell_type": "code",
   "execution_count": null,
   "id": "bc95f9e1-b810-49e0-85d2-d324b67056b8",
   "metadata": {},
   "outputs": [],
   "source": []
  }
 ],
 "metadata": {
  "kernelspec": {
   "display_name": "Python 3 (ipykernel)",
   "language": "python",
   "name": "python3"
  },
  "language_info": {
   "codemirror_mode": {
    "name": "ipython",
    "version": 3
   },
   "file_extension": ".py",
   "mimetype": "text/x-python",
   "name": "python",
   "nbconvert_exporter": "python",
   "pygments_lexer": "ipython3",
   "version": "3.13.4"
  }
 },
 "nbformat": 4,
 "nbformat_minor": 5
}
